{
 "cells": [
  {
   "cell_type": "code",
   "execution_count": 1,
   "id": "a31e0ffa-035d-4a07-979a-9e32ac0fdd67",
   "metadata": {},
   "outputs": [],
   "source": [
    "import torch\n",
    "from torch.optim import AdamW\n",
    "from torch import nn\n",
    "from torch.utils.data import Dataset, DataLoader\n",
    "from tqdm import trange, tqdm\n",
    "import pandas as pd\n",
    "import numpy as np\n",
    "from sklearn.metrics import accuracy_score, classification_report"
   ]
  },
  {
   "cell_type": "code",
   "execution_count": 2,
   "id": "c824988b-bd8a-46be-a3b8-ca9a1581db5e",
   "metadata": {},
   "outputs": [],
   "source": [
    "def one_hot_binary(label):\n",
    "    a = [0, 0]\n",
    "    a[label] = 1\n",
    "    return torch.tensor(a).to(torch.float)\n",
    "    # return a\n",
    "\n",
    "def one_hot_multiclass(label):\n",
    "    a = [0, 0, 0, 0]\n",
    "    a[label] = 1\n",
    "    return torch.tensor(a).to(torch.float)"
   ]
  },
  {
   "cell_type": "code",
   "execution_count": 3,
   "id": "87f34332-1f79-436a-88f0-33cb86b84e19",
   "metadata": {},
   "outputs": [],
   "source": [
    "class BinaryNetClassifier(nn.Module):\n",
    "    def __init__(self):\n",
    "        super().__init__()\n",
    "        # self.flatten = nn.Flatten()\n",
    "        self.linear_relu_stack = nn.Sequential(\n",
    "            nn.Linear(768, 1024),\n",
    "            nn.ELU(),\n",
    "            nn.Linear(1024, 2)\n",
    "            # nn.ReLU(),\n",
    "            # nn.Linear(512, 64),\n",
    "            # nn.ReLU(),\n",
    "            # nn.Linear(64, 2)\n",
    "        )\n",
    "\n",
    "    def forward(self, x):\n",
    "        # x = self.flatten(x)\n",
    "        logits = self.linear_relu_stack(x)\n",
    "        return logits"
   ]
  },
  {
   "cell_type": "code",
   "execution_count": 4,
   "id": "a5b9878c-29ba-4362-9dc9-939a1f118369",
   "metadata": {},
   "outputs": [],
   "source": [
    "class ClassificationDataset(Dataset):\n",
    "\tdef __init__(self, embeddings, labels):\n",
    "\t\tself.embeddings = embeddings\n",
    "\t\tself.labels = labels\n",
    "\n",
    "\tdef __len__(self):\n",
    "\t\treturn len(self.embeddings)\n",
    "\n",
    "\tdef __getitem__(self, idx):\n",
    "\t\tembed = self.embeddings[idx]\n",
    "\t\tlabel = self.labels[idx]\n",
    "\t\treturn {'embed': embed, 'label': label}"
   ]
  },
  {
   "cell_type": "code",
   "execution_count": 5,
   "id": "4d2d87de-7763-4e61-bd33-4faf620db188",
   "metadata": {},
   "outputs": [],
   "source": [
    "polyhope_binary_labels = {'Hope':1, 'Not Hope':0}\n",
    "polyhope_inv_binary_labels = {v: k for k, v in polyhope_binary_labels.items()}\n",
    "\n",
    "binary_polyhope = 'binary'\n",
    "multi_polyhope = 'multiclass'\n",
    "\n",
    "binary_classes = 2\n",
    "multi_classes = 4\n",
    "\n",
    "batch_size = 8\n",
    "num_epochs = 50\n",
    "learning_rate = 2e-5\n",
    "\n",
    "polyhope_multi_labels = {'Not Hope':0, 'Generalized Hope':1, 'Realistic Hope':2, 'Unrealistic Hope':3}\n",
    "polyhope_inv_multi_labels = {v: k for k, v in polyhope_multi_labels.items()}\n",
    "\n",
    "train_file = \"../data/train_polyhope_english.csv\"\n",
    "val_file = \"../data/val_polyhope_english.csv\"\n",
    "\n",
    "df_train = pd.read_csv(train_file)\n",
    "df_val = pd.read_csv(val_file)\n",
    "\n",
    "# train_labels = df_train['binary']\n",
    "# val_labels = df_val['binary']\n",
    "\n",
    "train_labels = df_train['multiclass']\n",
    "val_labels = df_val['multiclass']\n",
    "\n",
    "# temp = [one_hot_binary(polyhope_binary_labels[label]) for label in train_labels]\n",
    "# train_labels = torch.from_numpy(np.array(temp))\n",
    "# temp = [one_hot_binary(polyhope_binary_labels[label]) for label in val_labels]\n",
    "# val_labels = torch.from_numpy(np.array(temp))\n",
    "\n",
    "temp = [one_hot_binary(polyhope_multi_labels[label]) for label in train_labels]\n",
    "train_labels = torch.from_numpy(np.array(temp))\n",
    "temp = [one_hot_binary(polyhope_multi_labels[label]) for label in val_labels]\n",
    "val_labels = torch.from_numpy(np.array(temp))\n",
    "\n",
    "train_embeds = torch.load('../data/embeds/polyhope_train_english_embeds_t5_large.pt')\n",
    "val_embeds = torch.load('../data/embeds/polyhope_val_english_embeds_t5_large.pt')\n",
    "\n",
    "train_dataset = ClassificationDataset(train_embeds, train_labels)\n",
    "val_dataset = ClassificationDataset(val_embeds, val_labels)\n",
    "\n",
    "train_loader = DataLoader(train_dataset, batch_size=batch_size, shuffle=True)\n",
    "val_loader = DataLoader(val_dataset, batch_size=batch_size, shuffle=False)"
   ]
  },
  {
   "cell_type": "code",
   "execution_count": 6,
   "id": "993ad68a-8ac0-4dd8-a289-a4ae0dea03e9",
   "metadata": {},
   "outputs": [],
   "source": [
    "def train(model, data_loader, optimizer, device):\n",
    "    model.train()\n",
    "    for batch in data_loader:\n",
    "        optimizer.zero_grad()\n",
    "        embed = batch['embed'].to(device)\n",
    "        labels = batch['label'].to(device)\n",
    "        outputs = model(embed)\n",
    "        loss = nn.BCEWithLogitsLoss()(outputs, labels)\n",
    "        loss.backward()\n",
    "        optimizer.step()"
   ]
  },
  {
   "cell_type": "code",
   "execution_count": 7,
   "id": "10c04101-4bd0-4948-bfe6-bf1f300cdcc5",
   "metadata": {},
   "outputs": [],
   "source": [
    "def evaluate(model, data_loader, device):\n",
    "    a = []\n",
    "    for i in range(16):\n",
    "        # a.append([0, 1])\n",
    "        a.append([0, 1, 2, 3])\n",
    "    cats = torch.tensor(a).to(device)\n",
    "    b= []\n",
    "    for i in range(8):\n",
    "        # b.append([0, 1])\n",
    "        b.append([0, 1, 2, 3])\n",
    "    cats8 = torch.tensor(b).to(device)\n",
    "    model.eval()\n",
    "    predictions = []\n",
    "    actual_labels = []\n",
    "    with torch.no_grad():\n",
    "        for batch in data_loader:\n",
    "            embed = batch['embed'].to(device)\n",
    "            labels = batch['label'].to(device)\n",
    "            outputs = model(embed)\n",
    "            pred = torch.sigmoid(outputs)\n",
    "            pred = torch.round(pred)\n",
    "            if pred.shape[0] == 8:\n",
    "                pred = torch.sum(cats8 * pred, dim=1)\n",
    "                actual = torch.sum(cats8 * labels, dim=1)\n",
    "            else:\n",
    "                pred = torch.sum(cats * pred, dim=1)\n",
    "                actual = torch.sum(cats * labels, dim=1)\n",
    "            predictions.extend(pred.cpu().tolist())\n",
    "            actual_labels.extend(actual.cpu().tolist())\n",
    "    return accuracy_score(actual_labels, predictions), classification_report(actual_labels, predictions), predictions"
   ]
  },
  {
   "cell_type": "code",
   "execution_count": 8,
   "id": "4dfd9d94-aa7c-4ce8-b7c1-179c07ff2792",
   "metadata": {},
   "outputs": [],
   "source": [
    "model = BinaryNetClassifier()\n",
    "\n",
    "device = torch.device('cuda' if torch.cuda.is_available() else 'cpu')\n",
    "model.to(device)\n",
    "\n",
    "optimizer = AdamW(model.parameters(), lr=learning_rate)"
   ]
  },
  {
   "cell_type": "code",
   "execution_count": 9,
   "id": "85d30049-e72c-4186-ae19-6a1192404b9a",
   "metadata": {
    "scrolled": true
   },
   "outputs": [
    {
     "name": "stderr",
     "output_type": "stream",
     "text": [
      "100%|███████████████████████████████████████████| 50/50 [01:03<00:00,  1.27s/it]"
     ]
    },
    {
     "name": "stdout",
     "output_type": "stream",
     "text": [
      "Validation Accuracy: 0.8013565891472868\n",
      "Report:               precision    recall  f1-score   support\n",
      "\n",
      "         0.0       0.80      0.79      0.79       502\n",
      "         1.0       0.80      0.82      0.81       530\n",
      "\n",
      "    accuracy                           0.80      1032\n",
      "   macro avg       0.80      0.80      0.80      1032\n",
      "weighted avg       0.80      0.80      0.80      1032\n",
      "\n"
     ]
    },
    {
     "name": "stderr",
     "output_type": "stream",
     "text": [
      "\n"
     ]
    }
   ],
   "source": [
    "acc = []\n",
    "for epoch in trange(num_epochs):\n",
    "    train(model, train_loader, optimizer, device)\n",
    "    accuracy, report, predictions = evaluate(model, val_loader, device)\n",
    "    acc.append(accuracy)\n",
    "    # print(f\"Validation Accuracy: {accuracy}\")\n",
    "    # print(f\"Report: {report}\")\n",
    "accuracy, report, predictions = evaluate(model, val_loader, device)\n",
    "print(f\"Validation Accuracy: {accuracy}\")\n",
    "print(f\"Report: {report}\")"
   ]
  },
  {
   "cell_type": "code",
   "execution_count": 10,
   "id": "25538efe-119d-456b-8a26-1041dd889d33",
   "metadata": {},
   "outputs": [
    {
     "data": {
      "text/plain": [
       "[<matplotlib.lines.Line2D at 0x7f3cdcda1340>]"
      ]
     },
     "execution_count": 10,
     "metadata": {},
     "output_type": "execute_result"
    },
    {
     "data": {
      "image/png": "[encoded data removed]",
      "text/plain": [
       "<Figure size 640x480 with 1 Axes>"
      ]
     },
     "metadata": {},
     "output_type": "display_data"
    }
   ],
   "source": [
    "import matplotlib.pyplot as plt\n",
    "x = [i for i in range(len(acc))]\n",
    "plt.plot(x, acc)"
   ]
  },
  {
   "cell_type": "code",
   "execution_count": 11,
   "id": "5f1f529a-6ac9-4440-bdc5-5a01f6c79fe4",
   "metadata": {},
   "outputs": [],
   "source": [
    "# torch.save(model, '../models/polyhope_eng_bin_embed_nn.pt')"
   ]
  }
 ],
 "metadata": {
  "kernelspec": {
   "display_name": "Python 3 (ipykernel)",
   "language": "python",
   "name": "python3"
  },
  "language_info": {
   "codemirror_mode": {
    "name": "ipython",
    "version": 3
   },
   "file_extension": ".py",
   "mimetype": "text/x-python",
   "name": "python",
   "nbconvert_exporter": "python",
   "pygments_lexer": "ipython3",
   "version": "3.12.3"
  }
 },
 "nbformat": 4,
 "nbformat_minor": 5
}
