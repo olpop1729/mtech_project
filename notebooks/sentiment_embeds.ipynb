{
 "cells": [
  {
   "cell_type": "code",
   "execution_count": 1,
   "id": "92bd7893-eec0-4ada-9c63-b3753730fe2a",
   "metadata": {},
   "outputs": [],
   "source": [
    "from transformers import AutoModelForSequenceClassification, AutoTokenizer, AutoConfig, AutoModel\n",
    "import torch\n",
    "import pandas as pd\n",
    "from tqdm import tqdm, trange"
   ]
  },
  {
   "cell_type": "code",
   "execution_count": 2,
   "id": "9851d0c3-9eee-4b8e-b3e0-3fc3255d606e",
   "metadata": {},
   "outputs": [],
   "source": [
    "model_name = f\"cardiffnlp/twitter-roberta-base-sentiment-latest\"\n",
    "tokenizer = AutoTokenizer.from_pretrained(model_name)\n",
    "config = AutoConfig.from_pretrained(model_name)"
   ]
  },
  {
   "cell_type": "code",
   "execution_count": 3,
   "id": "d973bbdb-cd51-4e95-8190-c92484054842",
   "metadata": {},
   "outputs": [],
   "source": [
    "model = AutoModel.from_pretrained(model_name)"
   ]
  },
  {
   "cell_type": "code",
   "execution_count": 5,
   "id": "66fc57a4-59f5-4e05-8829-e84589ab3ecd",
   "metadata": {},
   "outputs": [
    {
     "name": "stderr",
     "output_type": "stream",
     "text": [
      "100%|████████████████████████████████████████████████████████████| 1032/1032 [01:36<00:00, 10.72it/s]\n"
     ]
    }
   ],
   "source": [
    "df_test = pd.read_csv('../data/val/val_polyhope_english.csv')\n",
    "\n",
    "test_texts = df_test['text'].tolist()\n",
    "\n",
    "test_embeds = []\n",
    "with torch.no_grad():\n",
    "    for text in tqdm(test_texts):\n",
    "        enc = tokenizer(text, return_tensors='pt', max_length=128, padding='max_length', truncation=True)\n",
    "        input_ids = enc['input_ids']\n",
    "        attention_mask = enc['attention_mask']\n",
    "        test_embeds.append(model(input_ids=input_ids, attention_mask=attention_mask)[0][:, 0, :])"
   ]
  },
  {
   "cell_type": "code",
   "execution_count": 6,
   "id": "cd10acd2-590a-457a-a319-105a7e1f27c2",
   "metadata": {},
   "outputs": [],
   "source": [
    "torch.save(test_embeds, '../data/embeds/polyhope_val_english_sentiment.pt')"
   ]
  },
  {
   "cell_type": "code",
   "execution_count": 5,
   "id": "4214bf7d-6674-49db-a07b-48c0c7da72e1",
   "metadata": {},
   "outputs": [
    {
     "name": "stderr",
     "output_type": "stream",
     "text": [
      "100%|████████████████████████████████████████████████████████████| 6192/6192 [09:17<00:00, 11.11it/s]\n",
      "100%|████████████████████████████████████████████████████████████| 1032/1032 [01:36<00:00, 10.65it/s]\n"
     ]
    }
   ],
   "source": [
    "# df_train = pd.read_csv('../data/train_polyhope_english.csv')\n",
    "# df_val = pd.read_csv('../data/val_polyhope_english.csv')\n",
    "\n",
    "# train_texts = df_train['text'].tolist()\n",
    "# val_texts = df_val['text'].tolist()\n",
    "\n",
    "# train_embed = []\n",
    "# with torch.no_grad():\n",
    "#     for text in tqdm(train_texts):\n",
    "#         enc = tokenizer(text, return_tensors='pt', max_length=128, padding='max_length', truncation=True)\n",
    "#         input_ids = enc['input_ids']\n",
    "#         attention_mask = enc['attention_mask']\n",
    "#         train_embed.append(model.roberta(input_ids=input_ids, attention_mask=attention_mask)[0][:, 0, :])\n",
    "\n",
    "# val_embed = []\n",
    "# with torch.no_grad():\n",
    "#     for text in tqdm(val_texts):\n",
    "#         enc = tokenizer(text, return_tensors='pt', max_length=128, padding='max_length', truncation=True)\n",
    "#         input_ids = enc['input_ids']\n",
    "#         attention_mask = enc['attention_mask']\n",
    "#         val_embed.append(model.roberta(input_ids=input_ids, attention_mask=attention_mask)[0][:, 0, :])"
   ]
  },
  {
   "cell_type": "code",
   "execution_count": 7,
   "id": "69ca8c29-28ff-4eb9-9e4b-4f836ac97db4",
   "metadata": {},
   "outputs": [],
   "source": [
    "# torch.save(train_embed, '../data/embeds/polyhope_train_english_sentiment.pt')\n",
    "# torch.save(val_embed, '../data/embeds/polyhope_val_english_sentiment.pt')"
   ]
  }
 ],
 "metadata": {
  "kernelspec": {
   "display_name": "Python 3 (ipykernel)",
   "language": "python",
   "name": "python3"
  },
  "language_info": {
   "codemirror_mode": {
    "name": "ipython",
    "version": 3
   },
   "file_extension": ".py",
   "mimetype": "text/x-python",
   "name": "python",
   "nbconvert_exporter": "python",
   "pygments_lexer": "ipython3",
   "version": "3.12.3"
  }
 },
 "nbformat": 4,
 "nbformat_minor": 5
}
